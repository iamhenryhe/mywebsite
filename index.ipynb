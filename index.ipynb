{
  "cells": [
    {
      "cell_type": "raw",
      "metadata": {},
      "source": [
        "---\n",
        "title: \"Zijie's Website\"\n",
        "format: \n",
        "  html:\n",
        "    theme: cerulean\n",
        "    toc: false\n",
        "editor: visual\n",
        "---"
      ],
      "id": "48e43c16"
    },
    {
      "cell_type": "markdown",
      "metadata": {},
      "source": [
        "# Welcome to my channel!\n",
        "\n",
        "## About Me\n",
        "\n",
        "![](/img/WechatIMG238.jpg){.profile-photo}\n",
        "\n",
        "In today's digital era, I deeply recognize the immense potential of data analysis. The rise of popular applications like TikTok and YouTube in recent years signifies that predicting user preferences through data analysis has become a crucial strategy driving content consumption. This personalized, data-driven approach not only profoundly influences our daily entertainment but also plays an increasingly vital role in the realms of business and society. With a keen interest and confidence, I am eager to gain a deeper understanding and actively engage in the future of data analysis.\n",
        "\n",
        "Born in Guangdong, a region that blends rich cultural elements and attracts people from around the world, I completed my undergraduate studies at Guangzhou College of Technology and Business, majoring in digital media. However, with the continuous development of various editing tools, the knowledge acquired in the field of digital media seems increasingly susceptible to being easily replicated by modern software. Hence, I have decided to embrace a new challenge by transitioning to learn data analysis, a burgeoning skill that promises to lay a more robust foundation for my professional development.\n",
        "\n",
        "During the current semester at George Mason University, I have acquired substantial knowledge, and I am highly satisfied with the expertise imparted by the professors. Therefore, I am eager to join George Mason's master's program in data analysis, where I anticipate gaining even more in-depth insights into this field.\n",
        "\n",
        "I am particularly fond of and receptive to the diverse culture in the United States. The people here are courteous, and I have formed many meaningful friendships. In conclusion, my goal is to successfully complete a Master's in Data Analysis, leveraging the diverse cultural experiences gained in the U.S. and the knowledge acquired at George Mason University. Ultimately, I aim to secure a fulfilling job aligned with my skill set in data analysis.\n",
        "\n",
        "## My project\n",
        "\n",
        "Visualization\n",
        "\n",
        "## Contact Information about me\n",
        "\n",
        "Contact Information\n",
        "\n",
        "- Email: [your.email@example.com](mailto:your.email@example.com)\n",
        "- LinkedIn: [yourprofile](https://www.linkedin.com/in/yourprofile)\n",
        "- GitHub: [yourusername](https://github.com/yourusername)\n",
        "\n",
        "```{js}\n",
        "function showMessage() {\n",
        "    document.getElementById(\"messageArea\").innerText = \"Feel Free To Contact Me\";\n",
        "}"
      ],
      "id": "15863b2a"
    }
  ],
  "metadata": {
    "kernelspec": {
      "name": "python3",
      "language": "python",
      "display_name": "Python 3 (ipykernel)"
    }
  },
  "nbformat": 4,
  "nbformat_minor": 5
}